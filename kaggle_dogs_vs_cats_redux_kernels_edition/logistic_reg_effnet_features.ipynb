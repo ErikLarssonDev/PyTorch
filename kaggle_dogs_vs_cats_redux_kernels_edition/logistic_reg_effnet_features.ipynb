{
 "cells": [
  {
   "cell_type": "markdown",
   "metadata": {},
   "source": [
    "# Kaggle | Dogs vs. Cats Redux: Kernels Edition\n",
    "\n",
    "Link: https://www.kaggle.com/competitions/dogs-vs-cats-redux-kernels-edition/overview\n",
    "\n",
    "A range of image resolutions.\n",
    "\n",
    "The label is in the name of the file in the train directory."
   ]
  },
  {
   "cell_type": "code",
   "execution_count": 1,
   "metadata": {},
   "outputs": [],
   "source": [
    "import sklearn\n",
    "import pandas as pd\n",
    "import numpy as np\n",
    "from sklearn.linear_model import LogisticRegression\n",
    "from sklearn.model_selection import train_test_split\n",
    "from sklearn.metrics import log_loss"
   ]
  },
  {
   "cell_type": "code",
   "execution_count": 2,
   "metadata": {},
   "outputs": [
    {
     "ename": "FileNotFoundError",
     "evalue": "[Errno 2] No such file or directory: 'data_features/X_train_b7.npy'",
     "output_type": "error",
     "traceback": [
      "\u001b[0;31m---------------------------------------------------------------------------\u001b[0m",
      "\u001b[0;31mFileNotFoundError\u001b[0m                         Traceback (most recent call last)",
      "\u001b[1;32m/Users/eriklarsson/git/PyTorch/kaggle_dogs_vs_cats_redux_kernels_edition/logistic_reg_effnet_features.ipynb Cell 3\u001b[0m line \u001b[0;36m1\n\u001b[0;32m----> <a href='vscode-notebook-cell:/Users/eriklarsson/git/PyTorch/kaggle_dogs_vs_cats_redux_kernels_edition/logistic_reg_effnet_features.ipynb#W2sZmlsZQ%3D%3D?line=0'>1</a>\u001b[0m X \u001b[39m=\u001b[39m np\u001b[39m.\u001b[39;49mload(\u001b[39mf\u001b[39;49m\u001b[39m'\u001b[39;49m\u001b[39mdata_features/X_train_b7.npy\u001b[39;49m\u001b[39m'\u001b[39;49m)\n\u001b[1;32m      <a href='vscode-notebook-cell:/Users/eriklarsson/git/PyTorch/kaggle_dogs_vs_cats_redux_kernels_edition/logistic_reg_effnet_features.ipynb#W2sZmlsZQ%3D%3D?line=1'>2</a>\u001b[0m y \u001b[39m=\u001b[39m np\u001b[39m.\u001b[39mload(\u001b[39mf\u001b[39m\u001b[39m'\u001b[39m\u001b[39mdata_features/y_train_b7.npy\u001b[39m\u001b[39m'\u001b[39m)\n\u001b[1;32m      <a href='vscode-notebook-cell:/Users/eriklarsson/git/PyTorch/kaggle_dogs_vs_cats_redux_kernels_edition/logistic_reg_effnet_features.ipynb#W2sZmlsZQ%3D%3D?line=3'>4</a>\u001b[0m \u001b[39m# Split data and train classifier\u001b[39;00m\n",
      "File \u001b[0;32m~/miniconda3/envs/py39-mac/lib/python3.9/site-packages/numpy/lib/npyio.py:405\u001b[0m, in \u001b[0;36mload\u001b[0;34m(file, mmap_mode, allow_pickle, fix_imports, encoding, max_header_size)\u001b[0m\n\u001b[1;32m    403\u001b[0m     own_fid \u001b[39m=\u001b[39m \u001b[39mFalse\u001b[39;00m\n\u001b[1;32m    404\u001b[0m \u001b[39melse\u001b[39;00m:\n\u001b[0;32m--> 405\u001b[0m     fid \u001b[39m=\u001b[39m stack\u001b[39m.\u001b[39menter_context(\u001b[39mopen\u001b[39;49m(os_fspath(file), \u001b[39m\"\u001b[39;49m\u001b[39mrb\u001b[39;49m\u001b[39m\"\u001b[39;49m))\n\u001b[1;32m    406\u001b[0m     own_fid \u001b[39m=\u001b[39m \u001b[39mTrue\u001b[39;00m\n\u001b[1;32m    408\u001b[0m \u001b[39m# Code to distinguish from NumPy binary files and pickles.\u001b[39;00m\n",
      "\u001b[0;31mFileNotFoundError\u001b[0m: [Errno 2] No such file or directory: 'data_features/X_train_b7.npy'"
     ]
    }
   ],
   "source": [
    "X = np.load(f'data_features/X_train_b7.npy')\n",
    "y = np.load(f'data_features/y_train_b7.npy')\n",
    "\n",
    "# Split data and train classifier\n",
    "print(f\"Training data shape: {X.shape}, labels shape: {y.shape}\")\n",
    "X_train, X_val, y_train, y_val = train_test_split(X, y, test_size=0.1, random_state=42) # Try with smaller test_size\n",
    "clf = LogisticRegression(max_iter=2000)\n",
    "clf.fit(X_train, y_train)"
   ]
  },
  {
   "cell_type": "code",
   "execution_count": null,
   "metadata": {},
   "outputs": [],
   "source": [
    "# Check on validation\n",
    "val_preds = clf.predict_proba(X_val)[:, 1]\n",
    "print(f\"On validation set:\")\n",
    "print(f\"Accuracy: {clf.score(X_val, y_val)}\")\n",
    "print(f\"Log loss: {log_loss(y_val, val_preds)}\\n\")"
   ]
  },
  {
   "cell_type": "code",
   "execution_count": null,
   "metadata": {},
   "outputs": [],
   "source": [
    "# Get predictions on test set\n",
    "print(\"Getting predictions for test set.\")\n",
    "X_test = np.load(f'data_features/X_test_b7.npy')\n",
    "X_test_preds = clf.predict_proba(X_test)[:, 1]\n",
    "df = pd.DataFrame({'id': np.arrange(1, 12501), 'label': np.clip(X_test_preds, 0.005, 0.995)}) # Due to the log loss we don't want to be very sure when we are wrong, forcing [0.005, 0.995]\n",
    "df.to_csv(f\"submissions/mysubmission.csv\", index=False)\n",
    "print(\"Done getting predictions!\")"
   ]
  }
 ],
 "metadata": {
  "kernelspec": {
   "display_name": "py39-mac",
   "language": "python",
   "name": "python3"
  },
  "language_info": {
   "codemirror_mode": {
    "name": "ipython",
    "version": 3
   },
   "file_extension": ".py",
   "mimetype": "text/x-python",
   "name": "python",
   "nbconvert_exporter": "python",
   "pygments_lexer": "ipython3",
   "version": "3.9.17"
  },
  "orig_nbformat": 4
 },
 "nbformat": 4,
 "nbformat_minor": 2
}
